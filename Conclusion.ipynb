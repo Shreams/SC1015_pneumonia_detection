{
 "cells": [
  {
   "cell_type": "markdown",
   "metadata": {},
   "source": [
    "# <span style=\"background-color: #FB770D\"> Conclusion ඞ </span>\n",
    "\n",
    "1. Augmenting minute difference in images of different classes can disrupt the performance of the model leading to poor recall, precision and accuracy.\n",
    "2. DenseNet and ResNet both did pretty similar in terms of performance\n",
    "3. Undersampling and randomizing the dataset use to train and test can help to prevent biases\n",
    "\n",
    "# <span style=\"background-color: #FB770D\"> Recommendation ඞ </span>\n",
    "1. Augment both classes instead of one class followed by shuffling them and undersample to prevent a repeat of images.\n",
    "2. Explore other nerual network model that is more tailored towards this kind of images\n",
    "3. Explore futher into \"EDA\" on images such as getting the mean of the array and such."
   ]
  },
  {
   "cell_type": "markdown",
   "metadata": {},
   "source": [
    "# <span style=\"background-color: #FB770D\"> Reflection ඞ </span>\n",
    "1. Discovering the world of transfer learning makes training easier\n",
    "2. Dealing with imbalanced datasets through undersampling and oversampling from augmentation\n",
    "3. Understanding precision and recall."
   ]
  }
 ],
 "metadata": {
  "language_info": {
   "name": "python"
  },
  "orig_nbformat": 4
 },
 "nbformat": 4,
 "nbformat_minor": 2
}
